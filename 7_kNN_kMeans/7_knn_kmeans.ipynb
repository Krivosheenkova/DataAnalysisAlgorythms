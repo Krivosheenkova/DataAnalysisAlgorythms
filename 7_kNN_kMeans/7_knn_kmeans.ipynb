{
 "cells": [
  {
   "cell_type": "markdown",
   "metadata": {},
   "source": [
    "# Homework #7. kNN, K-Means"
   ]
  },
  {
   "cell_type": "code",
   "execution_count": 1,
   "metadata": {},
   "outputs": [],
   "source": [
    "from collections import Counter\n",
    "import pandas as pd\n",
    "import numpy as np\n",
    "from sklearn import model_selection\n",
    "from sklearn.datasets import load_iris\n",
    "from sklearn import preprocessing\n",
    "\n",
    "%matplotlib inline\n",
    "import matplotlib.pyplot as plt\n",
    "from matplotlib.colors import ListedColormap"
   ]
  },
  {
   "cell_type": "code",
   "execution_count": 2,
   "metadata": {},
   "outputs": [],
   "source": [
    "X, y = load_iris(return_X_y=True)\n",
    "X = X[:, :2]\n",
    "scaler = preprocessing.MinMaxScaler()\n",
    "X_norm = scaler.fit_transform(X)\n",
    "X_train, X_test, y_train, y_test = \\\n",
    "model_selection.train_test_split(X, y, test_size=0.2, random_state=9)"
   ]
  },
  {
   "cell_type": "code",
   "execution_count": 3,
   "metadata": {
    "scrolled": false
   },
   "outputs": [
    {
     "data": {
      "image/png": "[encoded data removed]",
      "text/plain": [
       "<Figure size 648x504 with 1 Axes>"
      ]
     },
     "metadata": {
      "needs_background": "light"
     },
     "output_type": "display_data"
    }
   ],
   "source": [
    "cmap = ListedColormap(['red', 'green', 'blue'])\n",
    "plt.figure(figsize=(9, 7))\n",
    "plt.scatter(X_norm[:, 0], X_norm[:, 1], c=y, cmap=cmap);"
   ]
  },
  {
   "cell_type": "markdown",
   "metadata": {},
   "source": [
    "## Task #1"
   ]
  },
  {
   "cell_type": "markdown",
   "metadata": {},
   "source": [
    "К алгоритму kNN, представленному на уроке, реализовать добавление весов для соседей по любому из показанных на уроке принципов."
   ]
  },
  {
   "cell_type": "code",
   "execution_count": 4,
   "metadata": {},
   "outputs": [],
   "source": [
    "def calc_dist_weight(distance, a, b):\n",
    "    return 1 / ((distance + a) ** b)"
   ]
  },
  {
   "cell_type": "code",
   "execution_count": 5,
   "metadata": {},
   "outputs": [],
   "source": [
    "def calc_euclidean_distance(x1, x2):\n",
    "    distance = 0\n",
    "    for i in range(len(x1)):\n",
    "        distance += np.square(x1[i] - x2[i])\n",
    "\n",
    "    return np.sqrt(distance)"
   ]
  },
  {
   "cell_type": "code",
   "execution_count": 6,
   "metadata": {},
   "outputs": [],
   "source": [
    "def search_point(x, clusters):\n",
    "    ind = 0\n",
    "    for c in clusters:\n",
    "        if list(x) in c:\n",
    "            return ind\n",
    "        ind += 1\n",
    "    return -1"
   ]
  },
  {
   "cell_type": "code",
   "execution_count": 7,
   "metadata": {},
   "outputs": [],
   "source": [
    "def calc_mean_intra_distance(x, clusters):\n",
    "\n",
    "    \"\"\"\n",
    "    :param x:  X_train object\n",
    "    :param clusters:  list of lists where indexes are equivalent to a category from y_train\n",
    "    :returns:  Mean Intra-Cluster Distance\n",
    "    \"\"\"\n",
    "\n",
    "    a = 0\n",
    "    ind = search_point(list(x), clusters)\n",
    "\n",
    "    for i in clusters[ind]:\n",
    "        if i == list(x):\n",
    "            continue\n",
    "        a += calc_euclidean_distance(x, i)\n",
    "    cluster_size = len(clusters[ind]) - 1\n",
    "\n",
    "    return a / cluster_size"
   ]
  },
  {
   "cell_type": "code",
   "execution_count": 8,
   "metadata": {},
   "outputs": [],
   "source": [
    "def calc_mean_nearest_cluster_distance(x, clusters):\n",
    "\n",
    "    \"\"\"\n",
    "    :param x:  X_train object\n",
    "    :param clusters:  list of lists where indexes are equivalent to a category from y_train\n",
    "    :returns:  Mean Nearest-Cluster Distance\n",
    "    \"\"\"\n",
    "\n",
    "    b = []\n",
    "    ind = search_point(x, clusters)\n",
    "\n",
    "    for i in range(len(clusters)):\n",
    "        if i == ind:\n",
    "            continue\n",
    "        tmp = 0\n",
    "        for j in clusters[i]:\n",
    "            tmp += calc_euclidean_distance(x, j)\n",
    "        b.append(tmp / len(clusters[i]))\n",
    "\n",
    "    if not b:\n",
    "        return 0\n",
    "\n",
    "    return min(b)"
   ]
  },
  {
   "cell_type": "code",
   "execution_count": 9,
   "metadata": {},
   "outputs": [],
   "source": [
    "def accuracy(pred, y):\n",
    "    return sum(y == pred) / len(y)"
   ]
  },
  {
   "cell_type": "code",
   "execution_count": 24,
   "metadata": {},
   "outputs": [],
   "source": [
    "class KNN:\n",
    "    def __init__(self, k=3, q=0.5):\n",
    "        self.k = k\n",
    "        self.q = q\n",
    "\n",
    "    def fit(self, X, y):\n",
    "        self.X_train = X\n",
    "        self.y_train = y\n",
    "\n",
    "        self.clusters = [list() for i in range(len(set(self.y_train)))]\n",
    "        self.predicted_clusters = [list() for i in range(len(set(self.y_train)))]\n",
    "\n",
    "        for i in range(len(y)):\n",
    "            self.clusters[y[i]].append(list(X[i]))\n",
    "\n",
    "    def predict(self, X):\n",
    "        predicted_labels = [self._predict(x) for x in X]\n",
    "        return np.array(predicted_labels)\n",
    "\n",
    "    def _predict(self, x):\n",
    "\n",
    "        classes = {class_item: 0 for class_item in set(self.y_train)}\n",
    "        distances = []\n",
    "        for i in range(len(self.X_train)):\n",
    "            distance = (calc_euclidean_distance(x, self.X_train[i]), self.y_train[i])\n",
    "            if distance[0]:\n",
    "                distances.append(distance)\n",
    "        k_neighbors = sorted(distances)[:self.k]\n",
    "        \n",
    "#         добавление весов\n",
    "        for distance in k_neighbors:\n",
    "            a = calc_mean_intra_distance(x, self.clusters)\n",
    "            b = calc_mean_nearest_cluster_distance(x, self.clusters)\n",
    "            classes[distance[1]] += calc_dist_weight(distance[0], a, b)\n",
    "\n",
    "        pred = sorted(classes, key=classes.get)[-1]\n",
    "        self.predicted_clusters[pred].append(list(x))\n",
    "        return pred"
   ]
  },
  {
   "cell_type": "code",
   "execution_count": 18,
   "metadata": {},
   "outputs": [
    {
     "name": "stdout",
     "output_type": "stream",
     "text": [
      "\n",
      "0.9333333333333333\n"
     ]
    }
   ],
   "source": [
    "clf = KNN(k=7)\n",
    "clf.fit(X_train, y_train)\n",
    "prediction = clf.predict(X_test)\n",
    "\n",
    "print(accuracy(prediction, y_test))"
   ]
  },
  {
   "cell_type": "markdown",
   "metadata": {},
   "source": [
    "## Task #2"
   ]
  },
  {
   "cell_type": "markdown",
   "metadata": {},
   "source": [
    "(*) Написать функцию подсчета метрики качества кластеризации как среднее квадратичное внутриклассовое расстояние и построить график ее зависимости от количества кластеров k (взять от 1 до 10) для выборки данных из этого урока (создать датасет, как в методичке)."
   ]
  },
  {
   "cell_type": "code",
   "execution_count": 44,
   "metadata": {
    "scrolled": false
   },
   "outputs": [
    {
     "data": {
      "image/png": "[encoded data removed]",
      "text/plain": [
       "<Figure size 1008x432 with 1 Axes>"
      ]
     },
     "metadata": {
      "needs_background": "light"
     },
     "output_type": "display_data"
    }
   ],
   "source": [
    "plt.figure(figsize=(14,6))\n",
    "\n",
    "ks = np.arange(1, 11)\n",
    "dists = []\n",
    "\n",
    "for k in ks:\n",
    "    clf = KNN(k=k)\n",
    "    clf.fit(X_train, y_train)\n",
    "    prediction = clf.predict(X_test)\n",
    "\n",
    "    #   calculate mean intra-cluster distance\n",
    "    mean_intra_distance = \\\n",
    "    np.array([calc_mean_intra_distance(list(x), clf.predicted_clusters) for x in X_test]).mean()\n",
    "    dists.append(mean_intra_distance)\n",
    "    \n",
    "plt.plot(ks, dists);\n",
    "ind = dists.index(min(dists))\n",
    "plt.plot(ks[ind], min(dists), 'ro')\n",
    "plt.xlabel('k neighbors')\n",
    "plt.ylabel('intra-cluster distance');"
   ]
  },
  {
   "cell_type": "markdown",
   "metadata": {},
   "source": [
    "<p style='background-color:red;color:white;padding:6px'>Что-то я не уверена, что здесь всё так, как должно быть. Будет интересно получить замечания, т.к. это мой максимум."
   ]
  }
 ],
 "metadata": {
  "kernelspec": {
   "display_name": "Python 3",
   "language": "python",
   "name": "python3"
  },
  "language_info": {
   "codemirror_mode": {
    "name": "ipython",
    "version": 3
   },
   "file_extension": ".py",
   "mimetype": "text/x-python",
   "name": "python",
   "nbconvert_exporter": "python",
   "pygments_lexer": "ipython3",
   "version": "3.8.5"
  },
  "toc": {
   "base_numbering": 1,
   "nav_menu": {},
   "number_sections": false,
   "sideBar": true,
   "skip_h1_title": false,
   "title_cell": "Table of Contents",
   "title_sidebar": "Contents",
   "toc_cell": false,
   "toc_position": {
    "height": "calc(100% - 180px)",
    "left": "10px",
    "top": "150px",
    "width": "320px"
   },
   "toc_section_display": true,
   "toc_window_display": false
  }
 },
 "nbformat": 4,
 "nbformat_minor": 4
}
