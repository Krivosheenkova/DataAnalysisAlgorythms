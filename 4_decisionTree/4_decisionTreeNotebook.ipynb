{
 "cells": [
  {
   "cell_type": "markdown",
   "metadata": {},
   "source": [
    "# Homework 4. Decision Tree Classifier and Decision Tree Regressor"
   ]
  },
  {
   "cell_type": "code",
   "execution_count": 115,
   "metadata": {},
   "outputs": [],
   "source": [
    "import matplotlib.pyplot as plt\n",
    "import random\n",
    "from collections import Counter\n",
    "from matplotlib.colors import ListedColormap\n",
    "from sklearn import datasets\n",
    "\n",
    "import numpy as np"
   ]
  },
  {
   "cell_type": "code",
   "execution_count": 116,
   "metadata": {},
   "outputs": [],
   "source": [
    "classification_data, classification_labels = datasets.make_classification(\n",
    "                                               n_features = 2, \n",
    "# количество признаков\n",
    "                                               n_informative = 2, \n",
    "# Каждый класс информативного признака состоит из ряда гауссовских кластеров, \n",
    "# каждый расположен вокруг вершин гиперкуба в подпространстве измерения n_informative. \n",
    "# Для каждого кластера информативные признаки рисуются независимо от N (0, 1), \n",
    "# а затем случайным образом линейно комбинируются в каждом кластере для добавления ковариации. \n",
    "# Затем кластеры размещаются в вершинах гиперкуба.\n",
    "                                               n_classes = 2, \n",
    "# количество меток или лейблов\n",
    "                                               n_redundant=0, \n",
    "# Количество избыточных признаков. Эти признаки генерируются как случайные линейные комбинации \n",
    "# информативных признаков.\n",
    "                                               n_clusters_per_class=1, \n",
    "                                               random_state=5\n",
    "                                           )"
   ]
  },
  {
   "cell_type": "code",
   "execution_count": 117,
   "metadata": {
    "scrolled": false
   },
   "outputs": [
    {
     "data": {
      "image/png": "[encoded data removed]",
      "text/plain": [
       "<Figure size 1152x576 with 1 Axes>"
      ]
     },
     "metadata": {
      "needs_background": "light"
     },
     "output_type": "display_data"
    }
   ],
   "source": [
    "colors = ListedColormap(['red', 'blue'])\n",
    "light_colors = ListedColormap(['lightcoral', 'lightblue'])\n",
    "\n",
    "plt.figure(figsize=(16,8))\n",
    "plt.scatter(list(map(lambda x: x[0], classification_data)), list(map(lambda x: x[1], classification_data)), \n",
    "              c=classification_labels, cmap=colors);"
   ]
  },
  {
   "cell_type": "code",
   "execution_count": 118,
   "metadata": {},
   "outputs": [],
   "source": [
    "def mse(y_true, y_pred):\n",
    "    return sum((y_true - y_pred)**2) / len(y_true)"
   ]
  },
  {
   "cell_type": "code",
   "execution_count": 119,
   "metadata": {},
   "outputs": [],
   "source": [
    "def accuracy_metric(actual, predicted):\n",
    "    correct = 0\n",
    "    for i in range(len(actual)):\n",
    "        if actual[i] == predicted[i]:\n",
    "            correct += 1\n",
    "    return correct / float(len(actual)) * 100.0"
   ]
  },
  {
   "cell_type": "markdown",
   "metadata": {},
   "source": [
    "### В коде из методички реализуйте один или несколько из критериев останова (количество листьев, количество используемых признаков, глубина дерева и т.д.)"
   ]
  },
  {
   "cell_type": "code",
   "execution_count": 120,
   "metadata": {},
   "outputs": [],
   "source": [
    "class Node:\n",
    "\n",
    "    def __init__(self, index, t, true_branch, false_branch):\n",
    "        self.index = index  # индекс признака, по которому ведется сравнение с порогом в этом узле\n",
    "        self.t = t  # значение порога\n",
    "        self.true_branch = true_branch  # поддерево, удовлетворяющее условию в узле\n",
    "        self.false_branch = false_branch  # поддерево, не удовлетворяющее условию в узле\n",
    "\n",
    "\n",
    "class Leaf:\n",
    "\n",
    "    def __init__(self, data, labels):\n",
    "        self.data = data\n",
    "        self.labels = labels\n",
    "        self.prediction = self.predict()\n",
    "\n",
    "    def predict(self):\n",
    "        prediction = np.average(self.labels)\n",
    "        return prediction\n",
    "\n",
    "\n",
    "def variance(labels):\n",
    "    return (1 / labels.shape[0]) * np.sum((labels - np.mean(labels)) ** 2)\n",
    "\n",
    "\n",
    "def quality(left_labels, right_labels, current_variance):\n",
    "    p = float(left_labels.shape[0]) / (left_labels.shape[0] + right_labels.shape[0])\n",
    "    return current_variance - p * variance(left_labels) - (1 - p) * variance(right_labels)\n",
    "\n",
    "\n",
    "def split(data, labels, index, t):\n",
    "    left = np.where(data[:, index] <= t)\n",
    "    right = np.where(data[:, index] > t)\n",
    "\n",
    "    true_data = data[left]\n",
    "    false_data = data[right]\n",
    "    true_labels = labels[left]\n",
    "    false_labels = labels[right]\n",
    "\n",
    "    return true_data, false_data, true_labels, false_labels\n",
    "\n",
    "\n",
    "def find_best_split(data, labels):\n",
    "    min_leaf = 5\n",
    "\n",
    "    current_variance = variance(labels)\n",
    "\n",
    "    best_quality = 0\n",
    "    best_t = None\n",
    "    best_index = None\n",
    "\n",
    "    n_features = data.shape[1]\n",
    "\n",
    "    for index in range(n_features):\n",
    "        t_values = np.unique(data[:, index])\n",
    "\n",
    "        for t in t_values:\n",
    "            true_data, false_data, true_labels, false_labels = split(data, labels, index, t)\n",
    "            if len(true_data) < min_leaf or len(false_data) < min_leaf:\n",
    "                continue\n",
    "\n",
    "            current_quality = quality(true_labels, false_labels, current_variance)\n",
    "\n",
    "            if current_quality > best_quality:\n",
    "                best_quality, best_t, best_index = current_quality, t, index\n",
    "\n",
    "    return best_quality, best_t, best_index\n",
    "\n",
    "\n",
    "def build_tree(data, labels, curr_depth=0, min_gain=None, max_depth=3):\n",
    "    if (max_depth is not None) and (curr_depth == max_depth):\n",
    "        return Leaf(data, labels)\n",
    "\n",
    "    quality, t, index = find_best_split(data, labels)\n",
    "\n",
    "    if (quality == 0) or ((min_gain is not None) and quality < min_gain):\n",
    "        return Leaf(data, labels)\n",
    "\n",
    "    true_data, false_data, true_labels, false_labels = split(data, labels, index, t)\n",
    "\n",
    "    true_branch = build_tree(true_data, true_labels, curr_depth + 1)\n",
    "    false_branch = build_tree(false_data, false_labels, curr_depth + 1)\n",
    "\n",
    "    return Node(index, t, true_branch, false_branch)\n",
    "\n",
    "\n",
    "def classify_object(obj, node):\n",
    "    if isinstance(node, Leaf):\n",
    "        return node.prediction\n",
    "\n",
    "    if obj[node.index] <= node.t:\n",
    "        return classify_object(obj, node.true_branch)\n",
    "    else:\n",
    "        return classify_object(obj, node.false_branch)\n",
    "\n",
    "\n",
    "def predict(data, tree):\n",
    "    return np.array([classify_object(obj, tree) for obj in data])"
   ]
  },
  {
   "cell_type": "code",
   "execution_count": 138,
   "metadata": {},
   "outputs": [],
   "source": [
    "from sklearn import model_selection\n",
    "\n",
    "train_data, test_data, train_labels, test_labels = model_selection.train_test_split(\n",
    "                                                       classification_data, \n",
    "                                                       classification_labels, \n",
    "                                                       test_size = 0.3,\n",
    "                                                       random_state = 1\n",
    "                                                   )"
   ]
  },
  {
   "cell_type": "code",
   "execution_count": 139,
   "metadata": {
    "scrolled": true
   },
   "outputs": [],
   "source": [
    "# import pandas as pd\n",
    "# import numpy as np\n",
    "# from scipy.stats import mode\n",
    "# df = pd.read_csv('../datasets/framingham.csv')\n",
    "# df = df.sample(frac=0.5)\n",
    "# df"
   ]
  },
  {
   "cell_type": "code",
   "execution_count": 140,
   "metadata": {},
   "outputs": [],
   "source": [
    "# # X = df[['male', 'age', 'education', 'currentSmoker', 'cigsPerDay', 'glucose', 'heartRate']]\n",
    "# X = df[['heartRate', 'BMI']]\n",
    "# y = df[['cigsPerDay']]\n",
    "# values = {\n",
    "# #     'education': float(X.education.mode()), \n",
    "# #          'cigsPerDay': float(X.cigsPerDay.mode()),\n",
    "# #          'glucose': float(X.glucose.mode()),\n",
    "#          'BMI': float(X.BMI.mean()), \n",
    "#          'heartRate': float(X.heartRate.mode())}\n",
    "# X = X.fillna(values)\n",
    "# y = y.fillna(0)"
   ]
  },
  {
   "cell_type": "code",
   "execution_count": 141,
   "metadata": {},
   "outputs": [],
   "source": [
    "# def calc_std_feat(x):\n",
    "#     res = (x - x.mean()) / x.std()\n",
    "#     return res\n",
    "# X_st = X.copy()\n",
    "# cols = ['heartRate', 'BMI']\n",
    "# for col in cols:\n",
    "#     X_st[col] = calc_std_feat(X_st[col])\n",
    "\n",
    "# X_st.T.values.shape"
   ]
  },
  {
   "cell_type": "code",
   "execution_count": 142,
   "metadata": {},
   "outputs": [],
   "source": [
    "classification_data, classification_labels = train_data, train_labels"
   ]
  },
  {
   "cell_type": "code",
   "execution_count": 143,
   "metadata": {},
   "outputs": [],
   "source": [
    "# from sklearn.model_selection import train_test_split\n",
    "# X_train, X_test, y_train, y_test = train_test_split(X_st, y, test_size = 0.4,random_state=42) \n",
    "# train_data, test_data, train_labels, test_labels = \\\n",
    "# X_train.values, X_test.values, y_train.T.values[0], y_test.T.values[0]     "
   ]
  },
  {
   "cell_type": "code",
   "execution_count": 144,
   "metadata": {},
   "outputs": [],
   "source": [
    "my_tree = build_tree(train_data, train_labels, max_depth=5)"
   ]
  },
  {
   "cell_type": "code",
   "execution_count": 145,
   "metadata": {},
   "outputs": [
    {
     "name": "stdout",
     "output_type": "stream",
     "text": [
      "Индекс 0\n",
      "Порог 0.16261402870113306\n",
      "--> True:\n",
      "  Индекс 1\n",
      "  Порог -1.9402933258134305\n",
      "  --> True:\n",
      "    Прогноз: 0.2\n",
      "  --> False:\n",
      "    Прогноз: 0.0\n",
      "--> False:\n",
      "  Прогноз: 1.0\n"
     ]
    }
   ],
   "source": [
    "def print_tree(node, spacing=\"\"):\n",
    "\n",
    "    if isinstance(node, Leaf):\n",
    "        print(spacing + \"Прогноз:\", node.prediction)\n",
    "        return\n",
    "\n",
    "    print(spacing + 'Индекс', str(node.index))\n",
    "    print(spacing + 'Порог', str(node.t))\n",
    "\n",
    "    print (spacing + '--> True:')\n",
    "    print_tree(node.true_branch, spacing + \"  \")\n",
    "\n",
    "    print (spacing + '--> False:')\n",
    "    print_tree(node.false_branch, spacing + \"  \")\n",
    "    \n",
    "print_tree(my_tree)"
   ]
  },
  {
   "cell_type": "code",
   "execution_count": 146,
   "metadata": {},
   "outputs": [],
   "source": [
    "train_answers = predict(train_data, my_tree)"
   ]
  },
  {
   "cell_type": "code",
   "execution_count": 147,
   "metadata": {},
   "outputs": [],
   "source": [
    "answers = predict(test_data, my_tree)"
   ]
  },
  {
   "cell_type": "code",
   "execution_count": 148,
   "metadata": {},
   "outputs": [
    {
     "data": {
      "text/plain": [
       "89.79591836734694"
      ]
     },
     "execution_count": 148,
     "metadata": {},
     "output_type": "execute_result"
    }
   ],
   "source": [
    "train_accuracy = accuracy_metric(train_labels, train_answers)\n",
    "train_accuracy"
   ]
  },
  {
   "cell_type": "code",
   "execution_count": 149,
   "metadata": {
    "scrolled": true
   },
   "outputs": [
    {
     "data": {
      "text/plain": [
       "76.19047619047619"
      ]
     },
     "execution_count": 149,
     "metadata": {},
     "output_type": "execute_result"
    }
   ],
   "source": [
    "test_accuracy = accuracy_metric(test_labels, answers)\n",
    "test_accuracy"
   ]
  },
  {
   "cell_type": "code",
   "execution_count": 150,
   "metadata": {
    "scrolled": false
   },
   "outputs": [
    {
     "data": {
      "image/png": "[encoded data removed]",
      "text/plain": [
       "<Figure size 2160x504 with 2 Axes>"
      ]
     },
     "metadata": {
      "needs_background": "light"
     },
     "output_type": "display_data"
    }
   ],
   "source": [
    "def get_meshgrid(data, step=.05, border=1.2):\n",
    "    x_min, x_max = data[:, 0].min() - border, data[:, 0].max() + border\n",
    "#     print(f'x_min: {x_min}\\tx_max: {x_max}\\n data[:, 0].min() - border: {data[:, 0]}, {data[:, 0].min()}, {border}')\n",
    "    y_min, y_max = data[:, 1].min() - border, data[:, 1].max() + border\n",
    "#     print()\n",
    "    return np.meshgrid(np.arange(x_min, x_max, step), np.arange(y_min, y_max, step))\n",
    "\n",
    "plt.figure(figsize = (30, 7))\n",
    "\n",
    "plt.subplot(1,2,1)\n",
    "xx, yy = get_meshgrid(train_data)\n",
    "# xx.shape # (201, 161)\n",
    "# yy.shape # (201, 161)\n",
    "# xx.ravel() # (32361,)\n",
    "# yy.ravel().shape # (32361,)\n",
    "# predict(np.c_[xx.ravel(), yy.ravel()], tree=my_tree).reshape(xx.shape)\n",
    "mesh_predictions = np.array(predict(np.c_[xx.ravel(), yy.ravel()], my_tree)).reshape(xx.shape)\n",
    "# mesh_predictions = np.array(predict(np.c_[xx.reshape(-1), yy.reshape(-1)], my_tree)).reshape(xx.shape)\n",
    "\n",
    "plt.pcolormesh(xx, yy, mesh_predictions, cmap = light_colors, shading='auto')\n",
    "plt.scatter(train_data[:, 0], train_data[:, 1], c = train_labels, cmap = colors)\n",
    "plt.title(f'Train accuracy={train_accuracy:.2f}');\n",
    "\n",
    "plt.subplot(1,2,2)\n",
    "plt.pcolormesh(xx, yy, mesh_predictions, cmap = light_colors, shading='auto')\n",
    "plt.scatter(test_data[:, 0], test_data[:, 1], c = test_labels, cmap = colors)\n",
    "plt.title(f'Test accuracy={test_accuracy:.2f}');"
   ]
  },
  {
   "cell_type": "markdown",
   "metadata": {},
   "source": [
    "<p style='background-color: #fa9; color: #000; padding: 10px; border: 0.5px solid #000; font-size: 19px'>Созданная модель дерева решений очень плохо работает на данном датасете - видно, что риск получить порок сердца через 10 лет коррелирует с уровнем глюкозы, количеством скуренных в день сигарет или частотой сердечных сокращений не так хорошо, как хотелось бы и выставление различных параметров (максимальная глубина, минимальное количество листьев, ограничение по качеству) не влияет на результат. </p>"
   ]
  },
  {
   "cell_type": "markdown",
   "metadata": {},
   "source": [
    "### * Реализуйте дерево для задачи регрессии. Возьмите за основу дерево, реализованное в методичке, заменив механизм предсказания в листе на взятие среднего значения по выборке, и критерий Джини на дисперсию значений."
   ]
  },
  {
   "cell_type": "code",
   "execution_count": 151,
   "metadata": {},
   "outputs": [],
   "source": [
    "class Node:\n",
    "    \n",
    "    def __init__(self, index, t, true_branch, false_branch):\n",
    "        self.index = index  # индекс признака, по которому ведется сравнение с порогом в этом узле\n",
    "        self.t = t  # значение порога\n",
    "        self.true_branch = true_branch  # поддерево, удовлетворяющее условию в узле\n",
    "        self.false_branch = false_branch  # поддерево, не удовлетворяющее условию в узле\n",
    "        \n",
    "class Leaf:\n",
    "    \n",
    "    def __init__(self, data, labels):\n",
    "        self.data = data\n",
    "        self.labels = labels\n",
    "        self.prediction = self.predict()\n",
    "        \n",
    "    def predict(self):\n",
    "        prediction = np.average(self.labels)\n",
    "        return prediction        \n",
    "    \n",
    "def variance(labels):\n",
    "    return (1 / labels.shape[0]) * np.sum((labels - np.mean(labels))**2)\n",
    "\n",
    "def quality(left_labels, right_labels, current_variance):\n",
    "    p = float(left_labels.shape[0]) / (left_labels.shape[0] + right_labels.shape[0])\n",
    "    return current_variance - p * variance(left_labels) - (1 - p) * variance(right_labels)\n",
    "\n",
    "def split(data, labels, index, t):\n",
    "    \n",
    "    left = np.where(data[:, index] <= t)\n",
    "    right = np.where(data[:, index] > t)\n",
    "        \n",
    "    true_data = data[left]\n",
    "    false_data = data[right]\n",
    "    true_labels = labels[left]\n",
    "    false_labels = labels[right]\n",
    "        \n",
    "    return true_data, false_data, true_labels, false_labels\n",
    "\n",
    "def find_best_split(data, labels):\n",
    "    \n",
    "    min_leaf = 3\n",
    "    \n",
    "    current_variance = variance(labels)\n",
    "\n",
    "    best_quality = 0\n",
    "    best_t = None\n",
    "    best_index = None\n",
    "    \n",
    "    n_features = data.shape[1]\n",
    "    \n",
    "    for index in range(n_features):\n",
    "        t_values = np.unique(data[:, index])\n",
    "        \n",
    "        for t in t_values:\n",
    "            true_data, false_data, true_labels, false_labels = split(data, labels, index, t)\n",
    "            if len(true_data) < min_leaf or len(false_data) < min_leaf:\n",
    "                continue\n",
    "            \n",
    "            current_quality = quality(true_labels, false_labels, current_variance)\n",
    "            \n",
    "            if current_quality > best_quality:\n",
    "                best_quality, best_t, best_index = current_quality, t, index\n",
    "\n",
    "    return best_quality, best_t, best_index\n",
    "\n",
    "def build_tree(data, labels, curr_depth=0, min_gain=None, max_depth=3):\n",
    "    if (max_depth is not None) and (curr_depth == max_depth):\n",
    "        return Leaf(data, labels)\n",
    "    \n",
    "    quality, t, index = find_best_split(data, labels)\n",
    "\n",
    "    if (quality == 0) or ((min_gain is not None) and quality < min_gain):\n",
    "        return Leaf(data, labels)\n",
    "    \n",
    "    true_data, false_data, true_labels, false_labels = split(data, labels, index, t)\n",
    "\n",
    "    true_branch = build_tree(true_data, true_labels, curr_depth + 1)\n",
    "    false_branch = build_tree(false_data, false_labels, curr_depth + 1)\n",
    "\n",
    "    return Node(index, t, true_branch, false_branch)\n",
    "\n",
    "def classify_object(obj, node):\n",
    "\n",
    "    if isinstance(node, Leaf): return node.prediction\n",
    "\n",
    "    if obj[node.index] <= node.t:\n",
    "        return classify_object(obj, node.true_branch)\n",
    "    else:\n",
    "        return classify_object(obj, node.false_branch)\n",
    "\n",
    "def predict(data, tree):\n",
    "    return np.array([classify_object(obj, tree) for obj in data])"
   ]
  },
  {
   "cell_type": "code",
   "execution_count": 36,
   "metadata": {},
   "outputs": [
    {
     "name": "stdout",
     "output_type": "stream",
     "text": [
      "Индекс 0\n",
      "Порог 0.03654264148725312\n",
      "--> True:\n",
      "  Индекс 0\n",
      "  Порог -0.689565232048181\n",
      "  --> True:\n",
      "    Индекс 0\n",
      "    Порог -1.167278449710173\n",
      "    --> True:\n",
      "      Прогноз: -121.39064849773837\n",
      "    --> False:\n",
      "      Прогноз: -59.70469676988845\n",
      "  --> False:\n",
      "    Индекс 1\n",
      "    Порог -0.3058530211666308\n",
      "    --> True:\n",
      "      Прогноз: -34.88181961830964\n",
      "    --> False:\n",
      "      Прогноз: -5.432729259680711\n",
      "--> False:\n",
      "  Индекс 0\n",
      "  Порог 0.9721793096791724\n",
      "  --> True:\n",
      "    Индекс 1\n",
      "    Порог 0.6566194702604272\n",
      "    --> True:\n",
      "      Прогноз: 21.78115867200141\n",
      "    --> False:\n",
      "      Прогноз: 55.22855841895343\n",
      "  --> False:\n",
      "    Индекс 0\n",
      "    Порог 1.5824811170615634\n",
      "    --> True:\n",
      "      Прогноз: 88.2380476495344\n",
      "    --> False:\n",
      "      Прогноз: 139.425963489852\n"
     ]
    }
   ],
   "source": [
    "X_reg, y_reg = datasets.make_regression(n_features = 2, n_informative = 2, n_targets = 1, random_state=5)\n",
    "reg_tree = build_tree(X_reg, y_reg, max_depth=5, min_gain=0.1)\n",
    "\n",
    "\n",
    "def print_tree(node, spacing=\"\"):\n",
    "    if isinstance(node, Leaf):\n",
    "        print(spacing + \"Прогноз:\", node.prediction)\n",
    "        return\n",
    "\n",
    "    print(spacing + 'Индекс', str(node.index))\n",
    "    print(spacing + 'Порог', str(node.t))\n",
    "\n",
    "    print(spacing + '--> True:')\n",
    "    print_tree(node.true_branch, spacing + \"  \")\n",
    "\n",
    "    print(spacing + '--> False:')\n",
    "    print_tree(node.false_branch, spacing + \"  \")\n",
    "\n",
    "print_tree(reg_tree)"
   ]
  },
  {
   "cell_type": "code",
   "execution_count": 37,
   "metadata": {},
   "outputs": [],
   "source": [
    "pred = predict(X_reg, reg_tree)"
   ]
  },
  {
   "cell_type": "code",
   "execution_count": 38,
   "metadata": {},
   "outputs": [
    {
     "data": {
      "text/plain": [
       "0.0"
      ]
     },
     "execution_count": 38,
     "metadata": {},
     "output_type": "execute_result"
    }
   ],
   "source": [
    "accuracy_metric(y_reg, pred)"
   ]
  },
  {
   "cell_type": "code",
   "execution_count": 39,
   "metadata": {},
   "outputs": [
    {
     "data": {
      "text/plain": [
       "266.94469998237963"
      ]
     },
     "execution_count": 39,
     "metadata": {},
     "output_type": "execute_result"
    }
   ],
   "source": [
    "mse(y_reg, pred)"
   ]
  },
  {
   "cell_type": "code",
   "execution_count": null,
   "metadata": {},
   "outputs": [],
   "source": []
  }
 ],
 "metadata": {
  "kernelspec": {
   "display_name": "Python 3",
   "language": "python",
   "name": "python3"
  },
  "language_info": {
   "codemirror_mode": {
    "name": "ipython",
    "version": 3
   },
   "file_extension": ".py",
   "mimetype": "text/x-python",
   "name": "python",
   "nbconvert_exporter": "python",
   "pygments_lexer": "ipython3",
   "version": "3.8.5"
  },
  "toc": {
   "base_numbering": 1,
   "nav_menu": {},
   "number_sections": true,
   "sideBar": true,
   "skip_h1_title": false,
   "title_cell": "Table of Contents",
   "title_sidebar": "Contents",
   "toc_cell": false,
   "toc_position": {},
   "toc_section_display": true,
   "toc_window_display": false
  }
 },
 "nbformat": 4,
 "nbformat_minor": 4
}
